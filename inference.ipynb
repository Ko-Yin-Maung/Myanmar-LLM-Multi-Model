{
 "cells": [
  {
   "cell_type": "code",
   "execution_count": null,
   "metadata": {},
   "outputs": [],
   "source": [
    "import torch\n",
    "import torch.nn as nn\n",
    "from transformers import MBart50Tokenizer, MBartForConditionalGeneration\n",
    "\n",
    "device = \"cuda\" if torch.cuda.is_available() else \"cpu\"\n",
    "\n",
    "class MultiTaskModel(nn.Module):\n",
    "    def __init__(self, model_name=\"facebook/mbart-large-50\"):\n",
    "        super(MultiTaskModel, self).__init__()\n",
    "        self.model = MBartForConditionalGeneration.from_pretrained(model_name)\n",
    "        self.tokenizer = MBart50Tokenizer.from_pretrained(model_name, legacy=False)\n",
    "\n",
    "    def forward(self, input_ids, attention_mask, labels):\n",
    "        outputs = self.model(\n",
    "            input_ids=input_ids,\n",
    "            attention_mask=attention_mask,\n",
    "            labels=labels\n",
    "        )\n",
    "        return outputs\n",
    "\n",
    "    def generate(self, input_text, task_prefix, max_length=200):\n",
    "        task_input = f\"{task_prefix}: {input_text}\"\n",
    "        inputs = self.tokenizer(task_input, return_tensors=\"pt\", padding=True, truncation=True, max_length=200)\n",
    "        \n",
    "        outputs = self.model.generate(\n",
    "            input_ids=inputs.input_ids,\n",
    "            attention_mask=inputs.attention_mask,\n",
    "            max_length=max_length,\n",
    "            use_cache=True\n",
    "        )\n",
    "        return self.tokenizer.decode(outputs[0], skip_special_tokens=True)\n",
    "\n",
    "def load_model(model_path, model_name):\n",
    "    model = MultiTaskModel(model_name=model_name)\n",
    "    model.load_state_dict(torch.load(model_path))\n",
    "    model.eval()\n",
    "    tokenizer = MBart50Tokenizer.from_pretrained(model_name)    \n",
    "    return model, tokenizer\n",
    "\n",
    "def inference(model, tokenizer, task_prefix, input_text, max_length=200):\n",
    "    model.eval()\n",
    "    with torch.no_grad():\n",
    "        output = model.generate(input_text=input_text, task_prefix=task_prefix, max_length=max_length)    \n",
    "    return output"
   ]
  },
  {
   "cell_type": "code",
   "execution_count": null,
   "metadata": {},
   "outputs": [
    {
     "data": {
      "text/plain": [
       "MultiTaskModel(\n",
       "  (model): MBartForConditionalGeneration(\n",
       "    (model): MBartModel(\n",
       "      (shared): MBartScaledWordEmbedding(250054, 1024, padding_idx=1)\n",
       "      (encoder): MBartEncoder(\n",
       "        (embed_tokens): MBartScaledWordEmbedding(250054, 1024, padding_idx=1)\n",
       "        (embed_positions): MBartLearnedPositionalEmbedding(1026, 1024)\n",
       "        (layers): ModuleList(\n",
       "          (0-11): 12 x MBartEncoderLayer(\n",
       "            (self_attn): MBartSdpaAttention(\n",
       "              (k_proj): Linear(in_features=1024, out_features=1024, bias=True)\n",
       "              (v_proj): Linear(in_features=1024, out_features=1024, bias=True)\n",
       "              (q_proj): Linear(in_features=1024, out_features=1024, bias=True)\n",
       "              (out_proj): Linear(in_features=1024, out_features=1024, bias=True)\n",
       "            )\n",
       "            (self_attn_layer_norm): LayerNorm((1024,), eps=1e-05, elementwise_affine=True)\n",
       "            (activation_fn): ReLU()\n",
       "            (fc1): Linear(in_features=1024, out_features=4096, bias=True)\n",
       "            (fc2): Linear(in_features=4096, out_features=1024, bias=True)\n",
       "            (final_layer_norm): LayerNorm((1024,), eps=1e-05, elementwise_affine=True)\n",
       "          )\n",
       "        )\n",
       "        (layernorm_embedding): LayerNorm((1024,), eps=1e-05, elementwise_affine=True)\n",
       "        (layer_norm): LayerNorm((1024,), eps=1e-05, elementwise_affine=True)\n",
       "      )\n",
       "      (decoder): MBartDecoder(\n",
       "        (embed_tokens): MBartScaledWordEmbedding(250054, 1024, padding_idx=1)\n",
       "        (embed_positions): MBartLearnedPositionalEmbedding(1026, 1024)\n",
       "        (layers): ModuleList(\n",
       "          (0-11): 12 x MBartDecoderLayer(\n",
       "            (self_attn): MBartSdpaAttention(\n",
       "              (k_proj): Linear(in_features=1024, out_features=1024, bias=True)\n",
       "              (v_proj): Linear(in_features=1024, out_features=1024, bias=True)\n",
       "              (q_proj): Linear(in_features=1024, out_features=1024, bias=True)\n",
       "              (out_proj): Linear(in_features=1024, out_features=1024, bias=True)\n",
       "            )\n",
       "            (activation_fn): ReLU()\n",
       "            (self_attn_layer_norm): LayerNorm((1024,), eps=1e-05, elementwise_affine=True)\n",
       "            (encoder_attn): MBartSdpaAttention(\n",
       "              (k_proj): Linear(in_features=1024, out_features=1024, bias=True)\n",
       "              (v_proj): Linear(in_features=1024, out_features=1024, bias=True)\n",
       "              (q_proj): Linear(in_features=1024, out_features=1024, bias=True)\n",
       "              (out_proj): Linear(in_features=1024, out_features=1024, bias=True)\n",
       "            )\n",
       "            (encoder_attn_layer_norm): LayerNorm((1024,), eps=1e-05, elementwise_affine=True)\n",
       "            (fc1): Linear(in_features=1024, out_features=4096, bias=True)\n",
       "            (fc2): Linear(in_features=4096, out_features=1024, bias=True)\n",
       "            (final_layer_norm): LayerNorm((1024,), eps=1e-05, elementwise_affine=True)\n",
       "          )\n",
       "        )\n",
       "        (layernorm_embedding): LayerNorm((1024,), eps=1e-05, elementwise_affine=True)\n",
       "        (layer_norm): LayerNorm((1024,), eps=1e-05, elementwise_affine=True)\n",
       "      )\n",
       "    )\n",
       "    (lm_head): Linear(in_features=1024, out_features=250054, bias=False)\n",
       "  )\n",
       ")"
      ]
     },
     "execution_count": 2,
     "metadata": {},
     "output_type": "execute_result"
    }
   ],
   "source": [
    "## Test with new data\n",
    "model, tokenizer = load_model(model_path=\"model/our_multi_task_model.pth\", model_name=\"facebook/mbart-large-50\")\n",
    "model"
   ]
  },
  {
   "cell_type": "code",
   "execution_count": null,
   "metadata": {},
   "outputs": [
    {
     "name": "stdout",
     "output_type": "stream",
     "text": [
      "Input: we can't help remembering the things she did.\n",
      "Output: ကျွန်တော်တို့ သူမ လုပ်ခဲ့တဲ့ အရာကို သတိမရဘဲ မနေနိုင်ဘူး။\n",
      "\n",
      "Input: ဂရိနဲ့ ဥရောပကြား ဆွေးနွေးမှုတွေ မပြေလည်သေး ငွေထုတ်ယူ ခွင့်ကို တကြိမ်မှာ ယူရို ၈၀ သာ ခွင့်ပြုဖို့ ကန့်သတ် လိမ့်မယ်လို့ အေသင်မြို့မှာ ရှိတဲ့ ဘီဘီစီ သတင်းထောက် က ပြောပါတယ်။ လောလောဆယ်မှာ ဂရိ အစိုးရက၊ မြီရှင် နိုင်ငံတွေရဲ့ ချေးငွေ စည်းကမ်းချက် တွေကို လိုက်နာဖို့ သင့်မသင့် ပြည်လုံးကျွတ် ဆန္ဒ ခံယူပွဲ ကျင်းပဖို့ အတွက် ဆွေးနွေး နေပါတယ်။ အဲဒီ စည်းကမ်းချက် တွေဟာ သူတို့ အတွက် အရှက်ရ စေပြီး သည်းမခံ နိုင်လောက် တဲ့ စည်းကမ်းတွေ ဖြစ်တယ်လို့ ဂရိ ဝန်ကြီးချုပ် Alexis Tsipras ကပြောပါတယ်။ ဒီစည်းကမ်းချက် တွေကို လိုက်နာမယ် မလိုက်နာဘူး ဆုံးဖြတ်ဖို့ ပြည်လုံးကျွတ် ဆန္ဒခံယူပွဲကို လာမယ့် ဇူလိုင်လ ၅ ရက်၊ တနင်္ဂနွေနေ့မှာ ကျင်းပဖို့ အစိုးရရဲ့ အဆိုပြုချက်ကို အတည်ပြုဖို့ ပါလီမန် အရေး ပေါ် အစည်းဝေး ကျင်းပမှာ ဖြစ်တယ်လို့ သူက ဆိုပါတယ်။ မစ္စတာ Tsipras ဟာ အင်္ဂါနေ့မှာ သက်တမ်း ကုန်တော့မယ့် လက်ရှိ ချေးငွေ သဘော တူညီချက်ကို ယာယီ သက်တမ်း တိုးဖို့ ယူရို ငွေကြေးသုံး နိုင်ငံ တွေက ဘဏ္ဍာရေး ဝန်ကြီးတွေနဲ့ ဘရပ်ဆဲ မြို့မှာ မကြာခင် တွေ့ဆုံဖို့ ရှိပါတယ်။\n",
      "Output: ဂရိ အစိုးရက ဘဏ်ကနေ ငွေထုတ်ယူခွင့် ကို ကန့်သတ် လိမ့်မယ်လို့ စိုးရိမ်တဲ့ အတွက် ဂရိ အစိုးရက ဘဏ်တွေ ရှေ့မှာ ငွေထုတ်ဖို့ လူတွေ တန်းစီ စောင့်ဆိုင်း နေပါတယ်။\n",
      "\n",
      "Input: Chocolate agar ဆိုတာ ဘာလဲ ရှင်းပြပါ\n",
      "Output: Chocolate agar သည် blood agar ကို အပူပေးထားသော ပုံစံ ဖြစ်သည်။ အပူပေးခြင်းကြောင့် သွေးနီဥများ ပေါက်ကွဲပြီး၊ hemoglobin နှင့် အခြား growth factors များ ထွက်လာသည်။ ၎င်းသည် Haemophilus influenzae နှင့် Neisseria ကဲ့သို့သော fastidious ဘက်တီးရီးယားများ မွေးမြူရန် အသုံးဝင်သည်။\n",
      "\n"
     ]
    }
   ],
   "source": [
    "tasks = [\"translation\", \"summarization\", \"qa\"]\n",
    "test_examples = [\n",
    "    \"we can't help remembering the things she did.\",\n",
    "    \"ဂရိနဲ့ ဥရောပကြား ဆွေးနွေးမှုတွေ မပြေလည်သေး ငွေထုတ်ယူ ခွင့်ကို တကြိမ်မှာ ယူရို ၈၀ သာ ခွင့်ပြုဖို့ ကန့်သတ် လိမ့်မယ်လို့ အေသင်မြို့မှာ ရှိတဲ့ ဘီဘီစီ သတင်းထောက် က ပြောပါတယ်။ လောလောဆယ်မှာ ဂရိ အစိုးရက၊ မြီရှင် နိုင်ငံတွေရဲ့ ချေးငွေ စည်းကမ်းချက် တွေကို လိုက်နာဖို့ သင့်မသင့် ပြည်လုံးကျွတ် ဆန္ဒ ခံယူပွဲ ကျင်းပဖို့ အတွက် ဆွေးနွေး နေပါတယ်။ အဲဒီ စည်းကမ်းချက် တွေဟာ သူတို့ အတွက် အရှက်ရ စေပြီး သည်းမခံ နိုင်လောက် တဲ့ စည်းကမ်းတွေ ဖြစ်တယ်လို့ ဂရိ ဝန်ကြီးချုပ် Alexis Tsipras ကပြောပါတယ်။ ဒီစည်းကမ်းချက် တွေကို လိုက်နာမယ် မလိုက်နာဘူး ဆုံးဖြတ်ဖို့ ပြည်လုံးကျွတ် ဆန္ဒခံယူပွဲကို လာမယ့် ဇူလိုင်လ ၅ ရက်၊ တနင်္ဂနွေနေ့မှာ ကျင်းပဖို့ အစိုးရရဲ့ အဆိုပြုချက်ကို အတည်ပြုဖို့ ပါလီမန် အရေး ပေါ် အစည်းဝေး ကျင်းပမှာ ဖြစ်တယ်လို့ သူက ဆိုပါတယ်။ မစ္စတာ Tsipras ဟာ အင်္ဂါနေ့မှာ သက်တမ်း ကုန်တော့မယ့် လက်ရှိ ချေးငွေ သဘော တူညီချက်ကို ယာယီ သက်တမ်း တိုးဖို့ ယူရို ငွေကြေးသုံး နိုင်ငံ တွေက ဘဏ္ဍာရေး ဝန်ကြီးတွေနဲ့ ဘရပ်ဆဲ မြို့မှာ မကြာခင် တွေ့ဆုံဖို့ ရှိပါတယ်။\",\n",
    "    \"Chocolate agar ဆိုတာ ဘာလဲ ရှင်းပြပါ\"\n",
    "]\n",
    "\n",
    "for task, example in zip(tasks, test_examples):\n",
    "    output = inference(model, tokenizer, task, example, max_length=200)\n",
    "    print(f\"Input: {example}\")\n",
    "    print(f\"Output: {output}\\n\")"
   ]
  },
  {
   "cell_type": "code",
   "execution_count": 15,
   "metadata": {},
   "outputs": [
    {
     "name": "stdout",
     "output_type": "stream",
     "text": [
      "Task: translation\n",
      "Input: Miss Universe has to be fluent in English.\n",
      "Output: မယ်စက်ြာဝဠာဟာ အင်္ဂလိပ်စာကို သွက်လက် ချောမွေ့စွာ ပြောရပါမယ်။\n",
      "\n"
     ]
    }
   ],
   "source": [
    "task = \"translation\"\n",
    "example = \"Miss Universe has to be fluent in English.\"\n",
    "\n",
    "print(f\"Task: {task}\\nInput: {example}\")\n",
    "output = model.generate(example, task_prefix=task)\n",
    "print(f\"Output: {output}\\n\")"
   ]
  },
  {
   "cell_type": "code",
   "execution_count": 8,
   "metadata": {},
   "outputs": [
    {
     "name": "stdout",
     "output_type": "stream",
     "text": [
      "Task: summarization\n",
      "Input: ဂရိနဲ့ ဥရောပကြား ဆွေးနွေးမှုတွေ မပြေလည်သေး ငွေထုတ်ယူ ခွင့်ကို တကြိမ်မှာ ယူရို ၈၀ သာ ခွင့်ပြုဖို့ ကန့်သတ် လိမ့်မယ်လို့ အေသင်မြို့မှာ ရှိတဲ့ ဘီဘီစီ သတင်းထောက် က ပြောပါတယ်။ လောလောဆယ်မှာ ဂရိ အစိုးရက၊ မြီရှင် နိုင်ငံတွေရဲ့ ချေးငွေ စည်းကမ်းချက် တွေကို လိုက်နာဖို့ သင့်မသင့် ပြည်လုံးကျွတ် ဆန္ဒ ခံယူပွဲ ကျင်းပဖို့ အတွက် ဆွေးနွေး နေပါတယ်။ အဲဒီ စည်းကမ်းချက် တွေဟာ သူတို့ အတွက် အရှက်ရ စေပြီး သည်းမခံ နိုင်လောက် တဲ့ စည်းကမ်းတွေ ဖြစ်တယ်လို့ ဂရိ ဝန်ကြီးချုပ် Alexis Tsipras ကပြောပါတယ်။ ဒီစည်းကမ်းချက် တွေကို လိုက်နာမယ် မလိုက်နာဘူး ဆုံးဖြတ်ဖို့ ပြည်လုံးကျွတ် ဆန္ဒခံယူပွဲကို လာမယ့် ဇူလိုင်လ ၅ ရက်၊ တနင်္ဂနွေနေ့မှာ ကျင်းပဖို့ အစိုးရရဲ့ အဆိုပြုချက်ကို အတည်ပြုဖို့ ပါလီမန် အရေး ပေါ် အစည်းဝေး ကျင်းပမှာ ဖြစ်တယ်လို့ သူက ဆိုပါတယ်။ မစ္စတာ Tsipras ဟာ အင်္ဂါနေ့မှာ သက်တမ်း ကုန်တော့မယ့် လက်ရှိ ချေးငွေ သဘော တူညီချက်ကို ယာယီ သက်တမ်း တိုးဖို့ ယူရို ငွေကြေးသုံး နိုင်ငံ တွေက ဘဏ္ဍာရေး ဝန်ကြီးတွေနဲ့ ဘရပ်ဆဲ မြို့မှာ မကြာခင် တွေ့ဆုံဖို့ ရှိပါတယ်။\n",
      "Output: ဂရိ အစိုးရက ဘဏ်ကနေ ငွေထုတ်ယူခွင့် ကို ကန့်သတ် လိမ့်မယ်လို့ စိုးရိမ်တဲ့ အတွက် ဂရိ အစိုးရက ဘဏ်တွေ ရှေ့မှာ ငွေထုတ်ဖို့ လူတွေ တန်းစီ စောင့်ဆိုင်း နေပါတယ်။\n",
      "\n"
     ]
    }
   ],
   "source": [
    "task = \"summarization\"\n",
    "example = \"ဂရိနဲ့ ဥရောပကြား ဆွေးနွေးမှုတွေ မပြေလည်သေး ငွေထုတ်ယူ ခွင့်ကို တကြိမ်မှာ ယူရို ၈၀ သာ ခွင့်ပြုဖို့ ကန့်သတ် လိမ့်မယ်လို့ အေသင်မြို့မှာ ရှိတဲ့ ဘီဘီစီ သတင်းထောက် က ပြောပါတယ်။ လောလောဆယ်မှာ ဂရိ အစိုးရက၊ မြီရှင် နိုင်ငံတွေရဲ့ ချေးငွေ စည်းကမ်းချက် တွေကို လိုက်နာဖို့ သင့်မသင့် ပြည်လုံးကျွတ် ဆန္ဒ ခံယူပွဲ ကျင်းပဖို့ အတွက် ဆွေးနွေး နေပါတယ်။ အဲဒီ စည်းကမ်းချက် တွေဟာ သူတို့ အတွက် အရှက်ရ စေပြီး သည်းမခံ နိုင်လောက် တဲ့ စည်းကမ်းတွေ ဖြစ်တယ်လို့ ဂရိ ဝန်ကြီးချုပ် Alexis Tsipras ကပြောပါတယ်။ ဒီစည်းကမ်းချက် တွေကို လိုက်နာမယ် မလိုက်နာဘူး ဆုံးဖြတ်ဖို့ ပြည်လုံးကျွတ် ဆန္ဒခံယူပွဲကို လာမယ့် ဇူလိုင်လ ၅ ရက်၊ တနင်္ဂနွေနေ့မှာ ကျင်းပဖို့ အစိုးရရဲ့ အဆိုပြုချက်ကို အတည်ပြုဖို့ ပါလီမန် အရေး ပေါ် အစည်းဝေး ကျင်းပမှာ ဖြစ်တယ်လို့ သူက ဆိုပါတယ်။ မစ္စတာ Tsipras ဟာ အင်္ဂါနေ့မှာ သက်တမ်း ကုန်တော့မယ့် လက်ရှိ ချေးငွေ သဘော တူညီချက်ကို ယာယီ သက်တမ်း တိုးဖို့ ယူရို ငွေကြေးသုံး နိုင်ငံ တွေက ဘဏ္ဍာရေး ဝန်ကြီးတွေနဲ့ ဘရပ်ဆဲ မြို့မှာ မကြာခင် တွေ့ဆုံဖို့ ရှိပါတယ်။\"\n",
    "\n",
    "print(f\"Task: {task}\\nInput: {example}\")\n",
    "output = model.generate(example, task_prefix=task)\n",
    "print(f\"Output: {output}\\n\")"
   ]
  },
  {
   "cell_type": "code",
   "execution_count": 17,
   "metadata": {},
   "outputs": [
    {
     "name": "stdout",
     "output_type": "stream",
     "text": [
      "Task: qa\n",
      "Input: Flagella တို့၏ လုပ်ဆောင်ချက်ကို ဖော်ပြပါ။\n",
      "Output: Flagella သည် ဘက်တီးရီးယားများ၏ ရွေ့လျားမှု အတွက် အသုံးပြုသော ဆဲလ် ပြင်ပသို့ ထွက်နေသည့် ကြိုးသဖွယ် အတက်များ ဖြစ်သည်။ ၎င်းတို့သည် ဘက်တီးရီးယားအား ရေ၊ အာဟာရ သို့မဟုတ် host ဆဲလ်များဆီသို့ ရွှေ့လျားစေနိုင်သည်။\n",
      "\n"
     ]
    }
   ],
   "source": [
    "task = \"qa\"\n",
    "example = \"Flagella တို့၏ လုပ်ဆောင်ချက်ကို ဖော်ပြပါ။\"\n",
    "\n",
    "print(f\"Task: {task}\\nInput: {example}\")\n",
    "output = model.generate(example, task_prefix=task)\n",
    "print(f\"Output: {output}\\n\")"
   ]
  }
 ],
 "metadata": {
  "kernelspec": {
   "display_name": "MyEnv",
   "language": "python",
   "name": "python3"
  },
  "language_info": {
   "codemirror_mode": {
    "name": "ipython",
    "version": 3
   },
   "file_extension": ".py",
   "mimetype": "text/x-python",
   "name": "python",
   "nbconvert_exporter": "python",
   "pygments_lexer": "ipython3",
   "version": "3.10.11"
  }
 },
 "nbformat": 4,
 "nbformat_minor": 2
}
